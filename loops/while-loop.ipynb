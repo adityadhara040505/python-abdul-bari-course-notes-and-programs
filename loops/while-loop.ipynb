{
 "cells": [
  {
   "cell_type": "code",
   "execution_count": 1,
   "id": "41bdf8cb",
   "metadata": {},
   "outputs": [
    {
     "name": "stdout",
     "output_type": "stream",
     "text": [
      "1\n",
      "2\n",
      "3\n",
      "4\n",
      "5\n"
     ]
    }
   ],
   "source": [
    "i = 1\n",
    "while i<=5:\n",
    "    print(i)\n",
    "    i += 1"
   ]
  },
  {
   "cell_type": "code",
   "execution_count": 7,
   "id": "567a1510",
   "metadata": {},
   "outputs": [
    {
     "name": "stdout",
     "output_type": "stream",
     "text": [
      "10 x 1 = 10\n",
      "10 x 2 = 20\n",
      "10 x 3 = 30\n",
      "10 x 4 = 40\n",
      "10 x 5 = 50\n",
      "10 x 6 = 60\n",
      "10 x 7 = 70\n",
      "10 x 8 = 80\n",
      "10 x 9 = 90\n",
      "10 x 10 = 100\n"
     ]
    }
   ],
   "source": [
    "n = int(input(\"Enter a number: \"))\n",
    "i = 1\n",
    "while i<=10:\n",
    "    print(n, \"x\", i, \"=\", n*i)\n",
    "    i += 1"
   ]
  },
  {
   "cell_type": "code",
   "execution_count": 10,
   "id": "887fda49",
   "metadata": {},
   "outputs": [
    {
     "name": "stdout",
     "output_type": "stream",
     "text": [
      "5634"
     ]
    }
   ],
   "source": [
    "n = 4365\n",
    "while n > 0:\n",
    "    r = n % 10\n",
    "    print(r, end='')\n",
    "    n = n // 10"
   ]
  },
  {
   "cell_type": "code",
   "execution_count": 11,
   "id": "68e8435d",
   "metadata": {},
   "outputs": [
    {
     "name": "stdout",
     "output_type": "stream",
     "text": [
      "Number of digits: 4\n"
     ]
    }
   ],
   "source": [
    "#Count digits of a number \n",
    "\n",
    "n = 4365\n",
    "count = 0\n",
    "while n > 0:\n",
    "    n = n // 10\n",
    "    count += 1\n",
    "print(\"Number of digits:\", count)   "
   ]
  },
  {
   "cell_type": "code",
   "execution_count": 12,
   "id": "e104aa92",
   "metadata": {},
   "outputs": [
    {
     "name": "stdout",
     "output_type": "stream",
     "text": [
      "Sum of digits: 18\n"
     ]
    }
   ],
   "source": [
    "# Sum of digits of a number\n",
    "n = 4365\n",
    "sum_of_digits = 0\n",
    "while n > 0:\n",
    "    r = n % 10\n",
    "    sum_of_digits += r\n",
    "    n = n // 10\n",
    "print(\"Sum of digits:\", sum_of_digits)"
   ]
  },
  {
   "cell_type": "code",
   "execution_count": 13,
   "id": "acdc9386",
   "metadata": {},
   "outputs": [
    {
     "name": "stdout",
     "output_type": "stream",
     "text": [
      "Reversed number: 412412321\n"
     ]
    }
   ],
   "source": [
    "number = int(input(\"Enter a number: \"))\n",
    "r = 0\n",
    "while number > 0:\n",
    "    r = r * 10 + (number % 10)\n",
    "    number = number // 10\n",
    "print(\"Reversed number:\", r)"
   ]
  },
  {
   "cell_type": "code",
   "execution_count": 18,
   "id": "7d894bb8",
   "metadata": {},
   "outputs": [
    {
     "name": "stdout",
     "output_type": "stream",
     "text": [
      "It is not a palindrome\n",
      "Reversed number: 23\n",
      "Original number: 3200\n"
     ]
    }
   ],
   "source": [
    "number = int(input(\"Enter a number: \"))\n",
    "num = number \n",
    "r = 0\n",
    "while number > 0:\n",
    "    r = r * 10 + (number % 10)\n",
    "    number = number // 10\n",
    "if(r == num):\n",
    "    print(\"It is a palindrome\")\n",
    "else:\n",
    "    print(\"It is not a palindrome\")\n",
    "    print(\"Reversed number:\", r)\n",
    "    print(\"Original number:\", num)"
   ]
  },
  {
   "cell_type": "code",
   "execution_count": 20,
   "id": "18a44988",
   "metadata": {},
   "outputs": [
    {
     "name": "stdout",
     "output_type": "stream",
     "text": [
      "Sum of first 10 natural numbers is: 55\n"
     ]
    }
   ],
   "source": [
    "i = 0\n",
    "sum = 0\n",
    "n = int(input(\"Enter a number: \"))\n",
    "while i <= n:\n",
    "    sum += i\n",
    "    i += 1\n",
    "print(\"Sum of first\", n, \"natural numbers is:\", sum)"
   ]
  },
  {
   "cell_type": "code",
   "execution_count": 21,
   "id": "931e7b85",
   "metadata": {},
   "outputs": [
    {
     "name": "stdout",
     "output_type": "stream",
     "text": [
      "Enter 5 numbers\n",
      "Sum of 5 numbers is: 30\n"
     ]
    }
   ],
   "source": [
    "print(\"Enter 5 numbers\")\n",
    "i = 1\n",
    "sum = 0\n",
    "while i <= 5:\n",
    "    n = int(input(\"\"))\n",
    "    sum += n\n",
    "    i += 1\n",
    "print(\"Sum of 5 numbers is:\", sum)"
   ]
  },
  {
   "cell_type": "code",
   "execution_count": null,
   "id": "567164f1",
   "metadata": {},
   "outputs": [
    {
     "name": "stdout",
     "output_type": "stream",
     "text": [
      "Enter 5 numbers\n",
      "Maximum of 5 numbers is: 41\n",
      "Minimum of 5 numbers is: 3\n"
     ]
    }
   ],
   "source": [
    "print (\"Enter 5 numbers\")\n",
    "i = 1\n",
    "max = float('-inf')  # Initialize max to the smallest possible float\n",
    "min = float('inf')  # Initialize min to the largest possible float\n",
    "while i <= 5:\n",
    "    n = int(input(\"\"))\n",
    "    # if i == 1:  # Initialize min with the first number\n",
    "    #     min = n\n",
    "    #     max = n\n",
    "    if n > max:\n",
    "        max = n\n",
    "    if n < min:\n",
    "        min = n\n",
    "    i += 1\n",
    "print(\"Maximum of 5 numbers is:\", max)\n",
    "print(\"Minimum of 5 numbers is:\", min)"
   ]
  },
  {
   "cell_type": "code",
   "execution_count": 28,
   "id": "c3febb76",
   "metadata": {},
   "outputs": [
    {
     "name": "stdout",
     "output_type": "stream",
     "text": [
      "0\n",
      "1\n",
      "2\n",
      "3\n",
      "4\n"
     ]
    }
   ],
   "source": [
    "for i in range(5):\n",
    "    print(i)"
   ]
  },
  {
   "cell_type": "code",
   "execution_count": 29,
   "id": "f1829a22",
   "metadata": {},
   "outputs": [
    {
     "name": "stdout",
     "output_type": "stream",
     "text": [
      "Sum of first 10 natural numbers is: 55\n"
     ]
    }
   ],
   "source": [
    "#sum of all first n natural numbers\n",
    "n = int(input(\"Enter a number: \"))\n",
    "sum = 0\n",
    "for i in range(1, n + 1):\n",
    "    sum += i\n",
    "print(\"Sum of first\", n, \"natural numbers is:\", sum)"
   ]
  },
  {
   "cell_type": "code",
   "execution_count": 32,
   "id": "4a09f7b8",
   "metadata": {},
   "outputs": [
    {
     "name": "stdout",
     "output_type": "stream",
     "text": [
      "Factorial of 5 is: 120\n"
     ]
    }
   ],
   "source": [
    "#Factorial of a number\n",
    "n = int(input(\"Enter a number: \"))\n",
    "fact = 1\n",
    "for i in range(1, n + 1):\n",
    "    fact *= i\n",
    "print(\"Factorial of\", n, \"is:\", fact)"
   ]
  },
  {
   "cell_type": "code",
   "execution_count": 33,
   "id": "6a28d778",
   "metadata": {},
   "outputs": [
    {
     "name": "stdout",
     "output_type": "stream",
     "text": [
      "Fibonacci series:\n",
      "0 1 1 2 3 5 8 13 21 34 "
     ]
    }
   ],
   "source": [
    "#Fibonacci series\n",
    "n = int(input(\"Enter the number of terms in Fibonacci series: \"))\n",
    "a, b = 0, 1\n",
    "print(\"Fibonacci series:\")\n",
    "for x in range(n):\n",
    "    print(a, end=' ')\n",
    "    a, b = b, a + b  # Update a and b for the next term "
   ]
  },
  {
   "cell_type": "code",
   "execution_count": null,
   "id": "6300e4d3",
   "metadata": {},
   "outputs": [
    {
     "name": "stdout",
     "output_type": "stream",
     "text": [
      "1 2 4 5 20\n"
     ]
    }
   ],
   "source": [
    "n = int(input(\"Enter a number : \"))\n",
    "print(\"1\",end=\" \")\n",
    "for i in range(2,n+1):\n",
    "    if n % i == 0:\n",
    "        print(i, end=\" \")\n",
    "print(n)"
   ]
  },
  {
   "cell_type": "code",
   "execution_count": 7,
   "id": "ebf507ff",
   "metadata": {},
   "outputs": [
    {
     "name": "stdout",
     "output_type": "stream",
     "text": [
      "11 is a prime number\n"
     ]
    }
   ],
   "source": [
    "#Check if it is a prime number\n",
    "\n",
    "n = int(input(\"Enter a number: \"))\n",
    "for i in range(2,n):\n",
    "    if n % i == 0:\n",
    "        print(n, \"is not a prime number\")\n",
    "        break\n",
    "else:\n",
    "    print(n, \"is a prime number\")"
   ]
  },
  {
   "cell_type": "code",
   "execution_count": 9,
   "id": "0f07c752",
   "metadata": {},
   "outputs": [
    {
     "name": "stdout",
     "output_type": "stream",
     "text": [
      "Prime numbers from 1 to 100:\n",
      "2 3 5 7 11 13 17 19 23 29 31 37 41 43 47 53 59 61 67 71 73 79 83 89 97 "
     ]
    }
   ],
   "source": [
    "#prime numbers from 1 to 100\n",
    "print(\"Prime numbers from 1 to 100:\")\n",
    "for n in range(2,100+1):\n",
    "    for i in range(2,n):\n",
    "        if n % i == 0:\n",
    "            break\n",
    "    else:\n",
    "        print(n, end=' ')\n"
   ]
  },
  {
   "cell_type": "code",
   "execution_count": 10,
   "id": "baeb3b3c",
   "metadata": {},
   "outputs": [
    {
     "name": "stdout",
     "output_type": "stream",
     "text": [
      "* * * * * \n",
      "* * * * * \n",
      "* * * * * \n",
      "* * * * * \n",
      "* * * * * \n"
     ]
    }
   ],
   "source": [
    "#pattern 1:\n",
    "# * * * * *\n",
    "# * * * * *\n",
    "# * * * * *\n",
    "# * * * * *\n",
    "# * * * * * \n",
    "n = int(input(\"Enter the number of rows for pattern 1: \"))\n",
    "for i in range(n):\n",
    "    for j in range(n):\n",
    "        print(\"*\", end=\" \")\n",
    "    print()  # Move to the next line after each row"
   ]
  },
  {
   "cell_type": "code",
   "execution_count": null,
   "id": "d7e2170e",
   "metadata": {},
   "outputs": [
    {
     "name": "stdout",
     "output_type": "stream",
     "text": [
      "\n",
      "* \n",
      "* * \n",
      "* * * \n",
      "* * * * \n",
      "* * * * * \n"
     ]
    }
   ],
   "source": [
    "#pattern 2:\n",
    "# *\n",
    "# * *\n",
    "# * * *\n",
    "# * * * *\n",
    "# * * * * * \n",
    "n = int(input(\"Enter the number of rows for pattern 2: \"))\n",
    "for i in range(n+1):\n",
    "    for j in range(i):\n",
    "        print(\"*\", end=\" \")\n",
    "    print()  # Move to the next line after each row"
   ]
  },
  {
   "cell_type": "code",
   "execution_count": 15,
   "id": "a07d35e5",
   "metadata": {},
   "outputs": [
    {
     "name": "stdout",
     "output_type": "stream",
     "text": [
      "* * * * * \n",
      "* * * * \n",
      "* * * \n",
      "* * \n",
      "* \n"
     ]
    }
   ],
   "source": [
    "#pattern 1:\n",
    "# * * * * *\n",
    "# * * * * \n",
    "# * * *\n",
    "# * *\n",
    "# * \n",
    "n = int(input(\"Enter the number of rows for pattern 1: \"))\n",
    "for i in range(n,0,-1):\n",
    "    for j in range(i, 0, -1):\n",
    "        print(\"*\", end=\" \")\n",
    "    print()  # Move to the next line after each row"
   ]
  },
  {
   "cell_type": "code",
   "execution_count": 20,
   "id": "689e75a4",
   "metadata": {},
   "outputs": [
    {
     "name": "stdout",
     "output_type": "stream",
     "text": [
      "* * * * * \n",
      "  * * * * \n",
      "    * * * \n",
      "      * * \n",
      "        * \n"
     ]
    }
   ],
   "source": [
    "# pattern 4:\n",
    "# * * * * *\n",
    "#   * * * *\n",
    "#     * * *\n",
    "#     * * *\n",
    "#       * *\n",
    "#         *\n",
    "\n",
    "n = int(input(\"Enter the number of rows for pattern 4: \"))\n",
    "for i in range(n):\n",
    "    for j in range(i):\n",
    "        print(\" \", end=\" \")\n",
    "    for j in range(n-i):\n",
    "        print(\"*\", end=\" \")\n",
    "    print()  # Move to the next line after each row"
   ]
  },
  {
   "cell_type": "code",
   "execution_count": 21,
   "id": "11b26ac2",
   "metadata": {},
   "outputs": [
    {
     "name": "stdout",
     "output_type": "stream",
     "text": [
      "        * \n",
      "      * * \n",
      "    * * * \n",
      "  * * * * \n",
      "* * * * * \n"
     ]
    }
   ],
   "source": [
    "# pattern 4:\n",
    "#         *\n",
    "#       * *\n",
    "#     * * *\n",
    "#   * * * *\n",
    "# * * * * *\n",
    "\n",
    "n = int(input(\"Enter the number of rows for pattern 4: \"))\n",
    "for i in range(n):\n",
    "    for j in range(n-i-1):\n",
    "        print(\" \", end=\" \")\n",
    "    for j in range(i+1):\n",
    "        print(\"*\", end=\" \")\n",
    "    print()  # Move to the next line after each row"
   ]
  },
  {
   "cell_type": "code",
   "execution_count": null,
   "id": "ba7e4a8b",
   "metadata": {},
   "outputs": [],
   "source": [
    "    "
   ]
  }
 ],
 "metadata": {
  "kernelspec": {
   "display_name": "venv",
   "language": "python",
   "name": "python3"
  },
  "language_info": {
   "codemirror_mode": {
    "name": "ipython",
    "version": 3
   },
   "file_extension": ".py",
   "mimetype": "text/x-python",
   "name": "python",
   "nbconvert_exporter": "python",
   "pygments_lexer": "ipython3",
   "version": "3.10.12"
  }
 },
 "nbformat": 4,
 "nbformat_minor": 5
}
