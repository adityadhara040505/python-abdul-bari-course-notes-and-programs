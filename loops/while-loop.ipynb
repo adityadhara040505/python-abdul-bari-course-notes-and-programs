{
 "cells": [
  {
   "cell_type": "code",
   "execution_count": 1,
   "id": "41bdf8cb",
   "metadata": {},
   "outputs": [
    {
     "name": "stdout",
     "output_type": "stream",
     "text": [
      "1\n",
      "2\n",
      "3\n",
      "4\n",
      "5\n"
     ]
    }
   ],
   "source": [
    "i = 1\n",
    "while i<=5:\n",
    "    print(i)\n",
    "    i += 1"
   ]
  },
  {
   "cell_type": "code",
   "execution_count": 7,
   "id": "567a1510",
   "metadata": {},
   "outputs": [
    {
     "name": "stdout",
     "output_type": "stream",
     "text": [
      "10 x 1 = 10\n",
      "10 x 2 = 20\n",
      "10 x 3 = 30\n",
      "10 x 4 = 40\n",
      "10 x 5 = 50\n",
      "10 x 6 = 60\n",
      "10 x 7 = 70\n",
      "10 x 8 = 80\n",
      "10 x 9 = 90\n",
      "10 x 10 = 100\n"
     ]
    }
   ],
   "source": [
    "n = int(input(\"Enter a number: \"))\n",
    "i = 1\n",
    "while i<=10:\n",
    "    print(n, \"x\", i, \"=\", n*i)\n",
    "    i += 1"
   ]
  },
  {
   "cell_type": "code",
   "execution_count": 10,
   "id": "887fda49",
   "metadata": {},
   "outputs": [
    {
     "name": "stdout",
     "output_type": "stream",
     "text": [
      "5634"
     ]
    }
   ],
   "source": [
    "n = 4365\n",
    "while n > 0:\n",
    "    r = n % 10\n",
    "    print(r, end='')\n",
    "    n = n // 10"
   ]
  },
  {
   "cell_type": "code",
   "execution_count": 11,
   "id": "68e8435d",
   "metadata": {},
   "outputs": [
    {
     "name": "stdout",
     "output_type": "stream",
     "text": [
      "Number of digits: 4\n"
     ]
    }
   ],
   "source": [
    "#Count digits of a number \n",
    "\n",
    "n = 4365\n",
    "count = 0\n",
    "while n > 0:\n",
    "    n = n // 10\n",
    "    count += 1\n",
    "print(\"Number of digits:\", count)   "
   ]
  },
  {
   "cell_type": "code",
   "execution_count": 12,
   "id": "e104aa92",
   "metadata": {},
   "outputs": [
    {
     "name": "stdout",
     "output_type": "stream",
     "text": [
      "Sum of digits: 18\n"
     ]
    }
   ],
   "source": [
    "# Sum of digits of a number\n",
    "n = 4365\n",
    "sum_of_digits = 0\n",
    "while n > 0:\n",
    "    r = n % 10\n",
    "    sum_of_digits += r\n",
    "    n = n // 10\n",
    "print(\"Sum of digits:\", sum_of_digits)"
   ]
  },
  {
   "cell_type": "code",
   "execution_count": 13,
   "id": "acdc9386",
   "metadata": {},
   "outputs": [
    {
     "name": "stdout",
     "output_type": "stream",
     "text": [
      "Reversed number: 412412321\n"
     ]
    }
   ],
   "source": [
    "number = int(input(\"Enter a number: \"))\n",
    "r = 0\n",
    "while number > 0:\n",
    "    r = r * 10 + (number % 10)\n",
    "    number = number // 10\n",
    "print(\"Reversed number:\", r)"
   ]
  },
  {
   "cell_type": "code",
   "execution_count": 18,
   "id": "7d894bb8",
   "metadata": {},
   "outputs": [
    {
     "name": "stdout",
     "output_type": "stream",
     "text": [
      "It is not a palindrome\n",
      "Reversed number: 23\n",
      "Original number: 3200\n"
     ]
    }
   ],
   "source": [
    "number = int(input(\"Enter a number: \"))\n",
    "num = number \n",
    "r = 0\n",
    "while number > 0:\n",
    "    r = r * 10 + (number % 10)\n",
    "    number = number // 10\n",
    "if(r == num):\n",
    "    print(\"It is a palindrome\")\n",
    "else:\n",
    "    print(\"It is not a palindrome\")\n",
    "    print(\"Reversed number:\", r)\n",
    "    print(\"Original number:\", num)"
   ]
  },
  {
   "cell_type": "code",
   "execution_count": 20,
   "id": "18a44988",
   "metadata": {},
   "outputs": [
    {
     "name": "stdout",
     "output_type": "stream",
     "text": [
      "Sum of first 10 natural numbers is: 55\n"
     ]
    }
   ],
   "source": [
    "i = 0\n",
    "sum = 0\n",
    "n = int(input(\"Enter a number: \"))\n",
    "while i <= n:\n",
    "    sum += i\n",
    "    i += 1\n",
    "print(\"Sum of first\", n, \"natural numbers is:\", sum)"
   ]
  },
  {
   "cell_type": "code",
   "execution_count": 21,
   "id": "931e7b85",
   "metadata": {},
   "outputs": [
    {
     "name": "stdout",
     "output_type": "stream",
     "text": [
      "Enter 5 numbers\n",
      "Sum of 5 numbers is: 30\n"
     ]
    }
   ],
   "source": [
    "print(\"Enter 5 numbers\")\n",
    "i = 1\n",
    "sum = 0\n",
    "while i <= 5:\n",
    "    n = int(input(\"\"))\n",
    "    sum += n\n",
    "    i += 1\n",
    "print(\"Sum of 5 numbers is:\", sum)"
   ]
  },
  {
   "cell_type": "code",
   "execution_count": 24,
   "id": "567164f1",
   "metadata": {},
   "outputs": [
    {
     "name": "stdout",
     "output_type": "stream",
     "text": [
      "Enter 5 numbers\n",
      "Maximum of 5 numbers is: 41\n",
      "Minimum of 5 numbers is: 3\n"
     ]
    }
   ],
   "source": [
    "print (\"Enter 5 numbers\")\n",
    "i = 1\n",
    "max = 0\n",
    "min = 0\n",
    "while i <= 5:\n",
    "    n = int(input(\"\"))\n",
    "    if i == 1:  # Initialize min with the first number\n",
    "        min = n\n",
    "        max = n\n",
    "    if n > max:\n",
    "        max = n\n",
    "    if n < min:\n",
    "        min = n\n",
    "    i += 1\n",
    "print(\"Maximum of 5 numbers is:\", max)\n",
    "print(\"Minimum of 5 numbers is:\", min)"
   ]
  },
  {
   "cell_type": "code",
   "execution_count": null,
   "id": "c3febb76",
   "metadata": {},
   "outputs": [],
   "source": [
    " "
   ]
  }
 ],
 "metadata": {
  "kernelspec": {
   "display_name": "venv",
   "language": "python",
   "name": "python3"
  },
  "language_info": {
   "codemirror_mode": {
    "name": "ipython",
    "version": 3
   },
   "file_extension": ".py",
   "mimetype": "text/x-python",
   "name": "python",
   "nbconvert_exporter": "python",
   "pygments_lexer": "ipython3",
   "version": "3.10.12"
  }
 },
 "nbformat": 4,
 "nbformat_minor": 5
}
