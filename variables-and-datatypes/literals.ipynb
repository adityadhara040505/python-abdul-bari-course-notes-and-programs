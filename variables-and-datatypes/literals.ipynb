{
 "cells": [
  {
   "cell_type": "code",
   "execution_count": 3,
   "id": "a72ad977",
   "metadata": {},
   "outputs": [],
   "source": [
    "a = 201 \n",
    "b = 123_456_789\n",
    "c = 12_34_56_789\n",
    "\n",
    "#d = 358_           Not allowed, trailing underscore since gives invalid decimal\n",
    "#e = _312           Not allowed, leading underscore since name _312 not defined as it takes it as variable name\n"
   ]
  },
  {
   "cell_type": "code",
   "execution_count": 3,
   "id": "2052dfa5",
   "metadata": {},
   "outputs": [
    {
     "name": "stdout",
     "output_type": "stream",
     "text": [
      "False\n"
     ]
    }
   ],
   "source": [
    "d = bool(0.0)\n",
    "print(d)"
   ]
  },
  {
   "cell_type": "code",
   "execution_count": null,
   "id": "76220dce",
   "metadata": {},
   "outputs": [],
   "source": []
  }
 ],
 "metadata": {
  "kernelspec": {
   "display_name": "venv",
   "language": "python",
   "name": "python3"
  },
  "language_info": {
   "codemirror_mode": {
    "name": "ipython",
    "version": 3
   },
   "file_extension": ".py",
   "mimetype": "text/x-python",
   "name": "python",
   "nbconvert_exporter": "python",
   "pygments_lexer": "ipython3",
   "version": "3.10.12"
  }
 },
 "nbformat": 4,
 "nbformat_minor": 5
}
