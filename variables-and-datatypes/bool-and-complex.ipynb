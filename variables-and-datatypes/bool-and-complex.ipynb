{
 "cells": [
  {
   "cell_type": "code",
   "execution_count": 1,
   "id": "b3a5cbf2",
   "metadata": {},
   "outputs": [
    {
     "name": "stdout",
     "output_type": "stream",
     "text": [
      "True False\n"
     ]
    }
   ],
   "source": [
    "x = True\n",
    "y = False\n",
    "print(x , y)"
   ]
  },
  {
   "cell_type": "code",
   "execution_count": 4,
   "id": "f1ac3379",
   "metadata": {},
   "outputs": [
    {
     "name": "stdout",
     "output_type": "stream",
     "text": [
      "1 0\n",
      "True False\n",
      "True False\n",
      "True False\n",
      "False True\n"
     ]
    }
   ],
   "source": [
    "int(x)\n",
    "print(int(x), int(y))\n",
    "print(bool(1), bool(0))\n",
    "print(bool(1.0), bool(0.0))\n",
    "print(bool(\"Hello\"), bool(\"\"))\n",
    "print(bool([]), bool([1, 2, 3]))"
   ]
  },
  {
   "cell_type": "code",
   "execution_count": 5,
   "id": "772cac7c",
   "metadata": {},
   "outputs": [
    {
     "name": "stdout",
     "output_type": "stream",
     "text": [
      "False True True False True False\n"
     ]
    }
   ],
   "source": [
    "a = 10\n",
    "b = 20\n",
    "print(a == b, a != b, a < b, a > b, a <= b, a >= b)"
   ]
  },
  {
   "cell_type": "code",
   "execution_count": null,
   "id": "922fb316",
   "metadata": {},
   "outputs": [],
   "source": []
  }
 ],
 "metadata": {
  "kernelspec": {
   "display_name": "venv",
   "language": "python",
   "name": "python3"
  },
  "language_info": {
   "codemirror_mode": {
    "name": "ipython",
    "version": 3
   },
   "file_extension": ".py",
   "mimetype": "text/x-python",
   "name": "python",
   "nbconvert_exporter": "python",
   "pygments_lexer": "ipython3",
   "version": "3.10.12"
  }
 },
 "nbformat": 4,
 "nbformat_minor": 5
}
