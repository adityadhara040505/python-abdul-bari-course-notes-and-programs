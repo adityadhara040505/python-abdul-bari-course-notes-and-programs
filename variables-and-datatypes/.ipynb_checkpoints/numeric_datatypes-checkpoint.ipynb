{
 "cells": [
  {
   "cell_type": "code",
   "execution_count": 1,
   "id": "2ad7f195-973a-4516-82ad-965f2f161db4",
   "metadata": {},
   "outputs": [
    {
     "name": "stdout",
     "output_type": "stream",
     "text": [
      "10\n"
     ]
    }
   ],
   "source": [
    "a1 = 10\n",
    "print(a1)"
   ]
  },
  {
   "cell_type": "code",
   "execution_count": 2,
   "id": "88cdfbbc-3b05-4716-b62b-2713a2a79d58",
   "metadata": {},
   "outputs": [
    {
     "ename": "SyntaxError",
     "evalue": "invalid decimal literal (1872894089.py, line 1)",
     "output_type": "error",
     "traceback": [
      "\u001b[0;36m  Cell \u001b[0;32mIn[2], line 1\u001b[0;36m\u001b[0m\n\u001b[0;31m    1a = 25\u001b[0m\n\u001b[0m    ^\u001b[0m\n\u001b[0;31mSyntaxError\u001b[0m\u001b[0;31m:\u001b[0m invalid decimal literal\n"
     ]
    }
   ],
   "source": [
    "1a = 25\n",
    "print(1a)"
   ]
  },
  {
   "cell_type": "code",
   "execution_count": 4,
   "id": "d1e6ffad-e973-4b8d-bbcb-959f080d465f",
   "metadata": {},
   "outputs": [],
   "source": [
    "abc123mo = 10"
   ]
  },
  {
   "cell_type": "code",
   "execution_count": 5,
   "id": "6a29f868-8fc8-4090-838b-47d89e7ac6c9",
   "metadata": {},
   "outputs": [],
   "source": [
    "aA_ada = 31"
   ]
  },
  {
   "cell_type": "code",
   "execution_count": 6,
   "id": "4c103657-dc6c-49ae-a587-e1f13aedc578",
   "metadata": {},
   "outputs": [
    {
     "ename": "SyntaxError",
     "evalue": "invalid syntax (2189704571.py, line 1)",
     "output_type": "error",
     "traceback": [
      "\u001b[0;36m  Cell \u001b[0;32mIn[6], line 1\u001b[0;36m\u001b[0m\n\u001b[0;31m    daif dainfe = 10\u001b[0m\n\u001b[0m         ^\u001b[0m\n\u001b[0;31mSyntaxError\u001b[0m\u001b[0;31m:\u001b[0m invalid syntax\n"
     ]
    }
   ],
   "source": [
    "daif dainfe = 10"
   ]
  },
  {
   "cell_type": "code",
   "execution_count": 7,
   "id": "9d1f23df-93eb-4bb6-869c-ccba21b437e7",
   "metadata": {},
   "outputs": [
    {
     "ename": "SyntaxError",
     "evalue": "cannot assign to False (2017352608.py, line 1)",
     "output_type": "error",
     "traceback": [
      "\u001b[0;36m  Cell \u001b[0;32mIn[7], line 1\u001b[0;36m\u001b[0m\n\u001b[0;31m    False = 'no'\u001b[0m\n\u001b[0m    ^\u001b[0m\n\u001b[0;31mSyntaxError\u001b[0m\u001b[0;31m:\u001b[0m cannot assign to False\n"
     ]
    }
   ],
   "source": [
    "False = 'no'"
   ]
  },
  {
   "cell_type": "code",
   "execution_count": 11,
   "id": "639a3cbd-6e59-4556-bcfe-718e22ece103",
   "metadata": {},
   "outputs": [],
   "source": [
    "false = 'no' # not recommended "
   ]
  },
  {
   "cell_type": "code",
   "execution_count": null,
   "id": "a74fc300-c651-4175-9df2-350bd1caa8e2",
   "metadata": {},
   "outputs": [],
   "source": []
  }
 ],
 "metadata": {
  "kernelspec": {
   "display_name": "Python 3 (ipykernel)",
   "language": "python",
   "name": "python3"
  },
  "language_info": {
   "codemirror_mode": {
    "name": "ipython",
    "version": 3
   },
   "file_extension": ".py",
   "mimetype": "text/x-python",
   "name": "python",
   "nbconvert_exporter": "python",
   "pygments_lexer": "ipython3",
   "version": "3.10.12"
  }
 },
 "nbformat": 4,
 "nbformat_minor": 5
}
