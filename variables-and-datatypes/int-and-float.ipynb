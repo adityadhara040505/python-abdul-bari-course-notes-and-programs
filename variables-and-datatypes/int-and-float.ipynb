{
 "cells": [
  {
   "cell_type": "code",
   "execution_count": 1,
   "id": "e751c25f",
   "metadata": {},
   "outputs": [],
   "source": [
    "a = 10132210944814229841946246194618941"
   ]
  },
  {
   "cell_type": "code",
   "execution_count": 2,
   "id": "4cd1d0e0",
   "metadata": {},
   "outputs": [
    {
     "name": "stdout",
     "output_type": "stream",
     "text": [
      "a = 10132210944814229841946246194618941\n"
     ]
    }
   ],
   "source": [
    "print(\"a =\", a)"
   ]
  },
  {
   "cell_type": "code",
   "execution_count": 4,
   "id": "90c52ab1",
   "metadata": {},
   "outputs": [
    {
     "data": {
      "text/plain": [
       "40"
      ]
     },
     "execution_count": 4,
     "metadata": {},
     "output_type": "execute_result"
    }
   ],
   "source": [
    "import sys\n",
    "sys.getsizeof(a)"
   ]
  },
  {
   "cell_type": "code",
   "execution_count": 5,
   "id": "2d9e2c6b",
   "metadata": {},
   "outputs": [
    {
     "name": "stdout",
     "output_type": "stream",
     "text": [
      "f1 = 12500.25\n"
     ]
    }
   ],
   "source": [
    "f1 = 12500.25\n",
    "print(\"f1 =\", f1)"
   ]
  },
  {
   "cell_type": "code",
   "execution_count": 6,
   "id": "64656264",
   "metadata": {},
   "outputs": [
    {
     "name": "stdout",
     "output_type": "stream",
     "text": [
      "f2 = 125.0025\n"
     ]
    }
   ],
   "source": [
    "f2 = 12500.25e-2\n",
    "print(\"f2 =\", f2)"
   ]
  },
  {
   "cell_type": "code",
   "execution_count": 7,
   "id": "c152d5f4",
   "metadata": {},
   "outputs": [
    {
     "name": "stdout",
     "output_type": "stream",
     "text": [
      "f2 = 1250025.0\n"
     ]
    }
   ],
   "source": [
    "f3 = 12500.25e2\n",
    "print(\"f2 =\", f3)"
   ]
  }
 ],
 "metadata": {
  "kernelspec": {
   "display_name": "venv",
   "language": "python",
   "name": "python3"
  },
  "language_info": {
   "codemirror_mode": {
    "name": "ipython",
    "version": 3
   },
   "file_extension": ".py",
   "mimetype": "text/x-python",
   "name": "python",
   "nbconvert_exporter": "python",
   "pygments_lexer": "ipython3",
   "version": "3.10.12"
  }
 },
 "nbformat": 4,
 "nbformat_minor": 5
}
