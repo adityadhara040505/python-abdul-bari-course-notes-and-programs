{
 "cells": [
  {
   "cell_type": "code",
   "execution_count": 1,
   "id": "324ab0a6",
   "metadata": {},
   "outputs": [
    {
     "data": {
      "text/plain": [
       "'1111101000'"
      ]
     },
     "execution_count": 1,
     "metadata": {},
     "output_type": "execute_result"
    }
   ],
   "source": [
    "# format function is used to get string of the given number in binary format\n",
    "# The format function takes two arguments: the number and the base (2 for binary)\n",
    "# The result is a string representation of the number in binary format\n",
    "\n",
    "a = 1000\n",
    "format(a,'b')"
   ]
  },
  {
   "cell_type": "code",
   "execution_count": null,
   "id": "d3ce3c75",
   "metadata": {},
   "outputs": [],
   "source": []
  }
 ],
 "metadata": {
  "kernelspec": {
   "display_name": "venv",
   "language": "python",
   "name": "python3"
  },
  "language_info": {
   "codemirror_mode": {
    "name": "ipython",
    "version": 3
   },
   "file_extension": ".py",
   "mimetype": "text/x-python",
   "name": "python",
   "nbconvert_exporter": "python",
   "pygments_lexer": "ipython3",
   "version": "3.10.12"
  }
 },
 "nbformat": 4,
 "nbformat_minor": 5
}
