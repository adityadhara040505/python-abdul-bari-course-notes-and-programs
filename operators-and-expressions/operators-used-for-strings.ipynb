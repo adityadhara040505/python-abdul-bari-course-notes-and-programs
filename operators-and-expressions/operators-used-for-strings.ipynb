{
 "cells": [
  {
   "cell_type": "code",
   "execution_count": 2,
   "id": "e2164f13",
   "metadata": {},
   "outputs": [
    {
     "name": "stdout",
     "output_type": "stream",
     "text": [
      "abc10\n",
      "abc10\n"
     ]
    }
   ],
   "source": [
    "# s = 'abc'+10\n",
    "# print(s)\n",
    "# This code will raise a TypeError because you cannot concatenate a string and an integer.\n",
    "# To fix this, you can convert the integer to a string using str():\n",
    "s = 'abc' + str(10)\n",
    "print(s)\n",
    "# Now it will print 'abc10' without any error.\n",
    "# Alternatively, you can use formatted strings:\n",
    "s = f'abc{10}'\n",
    "print(s)\n",
    "# This will also print 'abc10' without any error."
   ]
  },
  {
   "cell_type": "code",
   "execution_count": 3,
   "id": "5c8d3b0a",
   "metadata": {},
   "outputs": [
    {
     "name": "stdout",
     "output_type": "stream",
     "text": [
      "abcdef\n"
     ]
    }
   ],
   "source": [
    "s1  = 'abc'\n",
    "s2 = 'def'\n",
    "# Concatenating two strings\n",
    "s3 = s1 + s2\n",
    "print(s3)  # Output: 'abcdef'"
   ]
  },
  {
   "cell_type": "code",
   "execution_count": 4,
   "id": "cb169d8e",
   "metadata": {},
   "outputs": [
    {
     "name": "stdout",
     "output_type": "stream",
     "text": [
      "abcabcabc\n"
     ]
    }
   ],
   "source": [
    "#Multiplying a string\n",
    "s4 = s1 * 3\n",
    "print(s4)  # Output: 'abcabcabc'"
   ]
  },
  {
   "cell_type": "code",
   "execution_count": 5,
   "id": "8e623b10",
   "metadata": {},
   "outputs": [
    {
     "name": "stdout",
     "output_type": "stream",
     "text": [
      "abc abc abc abc abc \n"
     ]
    }
   ],
   "source": [
    "s5 = 'abc '\n",
    "s6 = s5 * 5\n",
    "print(s6)  # Output: 'abc abc abc abc abc '"
   ]
  },
  {
   "cell_type": "code",
   "execution_count": 8,
   "id": "f43ee802",
   "metadata": {},
   "outputs": [
    {
     "name": "stdout",
     "output_type": "stream",
     "text": [
      "s1 is equal to 'abc'\n"
     ]
    }
   ],
   "source": [
    "if s1 == 'abc':\n",
    "    print(\"s1 is equal to 'abc'\")\n",
    "else:\n",
    "    print(\"s1 is not equal to 'abc'\")"
   ]
  },
  {
   "cell_type": "code",
   "execution_count": 3,
   "id": "a663501c",
   "metadata": {},
   "outputs": [
    {
     "name": "stdout",
     "output_type": "stream",
     "text": [
      "Positive\n"
     ]
    }
   ],
   "source": [
    "number = int(input(\"Enter a number: \"))\n",
    "if (number >= 0):\n",
    "    print(\"Positive\")\n",
    "else:\n",
    "    print(\"Negative\")"
   ]
  },
  {
   "cell_type": "code",
   "execution_count": null,
   "id": "e6b01972",
   "metadata": {},
   "outputs": [
    {
     "name": "stdout",
     "output_type": "stream",
     "text": [
      "n is an odd number\n"
     ]
    }
   ],
   "source": [
    "n = 10.2\n",
    "if n%2.0 == 0:\n",
    "    print(\"n is an even number\")\n",
    "else:\n",
    "    print(\"n is an odd number\")"
   ]
  },
  {
   "cell_type": "code",
   "execution_count": 6,
   "id": "58699fae",
   "metadata": {},
   "outputs": [
    {
     "name": "stdout",
     "output_type": "stream",
     "text": [
      "You are a minor.\n"
     ]
    }
   ],
   "source": [
    "age = int(input(\"Enter your age: \"))\n",
    "if age < 18:\n",
    "    print(\"You are a minor.\")\n",
    "elif age < 65:\n",
    "    print(\"You are an adult.\")\n",
    "else:\n",
    "    print(\"You are a senior citizen.\")"
   ]
  },
  {
   "cell_type": "code",
   "execution_count": 7,
   "id": "406cf785",
   "metadata": {},
   "outputs": [
    {
     "name": "stdout",
     "output_type": "stream",
     "text": [
      "Male\n"
     ]
    }
   ],
   "source": [
    "gender = input(\"Enter your gender (M/F): \").strip()\n",
    "if (gender.upper() == 'M'):\n",
    "    print(\"Male\")\n",
    "else:\n",
    "    print(\"Female\")"
   ]
  },
  {
   "cell_type": "code",
   "execution_count": 8,
   "id": "351e1d93",
   "metadata": {},
   "outputs": [
    {
     "name": "stdout",
     "output_type": "stream",
     "text": [
      "2100 is not a leap year.\n"
     ]
    }
   ],
   "source": [
    "#Leap year code\n",
    "year = int(input(\"Enter a year: \"))\n",
    "if (year % 4 == 0 and year % 100 != 0) or (year % 400 == 0):\n",
    "    print(f\"{year} is a leap year.\")\n",
    "else:\n",
    "    print(f\"{year} is not a leap year.\")"
   ]
  },
  {
   "cell_type": "code",
   "execution_count": 9,
   "id": "f49fe87c",
   "metadata": {},
   "outputs": [
    {
     "data": {
      "text/plain": [
       "'1111101000'"
      ]
     },
     "execution_count": 9,
     "metadata": {},
     "output_type": "execute_result"
    }
   ],
   "source": [
    "format(1000,'b')"
   ]
  },
  {
   "cell_type": "code",
   "execution_count": 10,
   "id": "31a1b816",
   "metadata": {},
   "outputs": [
    {
     "data": {
      "text/plain": [
       "'0b1111101000'"
      ]
     },
     "execution_count": 10,
     "metadata": {},
     "output_type": "execute_result"
    }
   ],
   "source": [
    "bin(1000)"
   ]
  },
  {
   "cell_type": "code",
   "execution_count": 13,
   "id": "32dfb92b",
   "metadata": {},
   "outputs": [
    {
     "data": {
      "text/plain": [
       "13"
      ]
     },
     "execution_count": 13,
     "metadata": {},
     "output_type": "execute_result"
    }
   ],
   "source": [
    "a = 4142\n",
    "a.bit_length()  # Returns the number of bits required to represent the number in binary"
   ]
  },
  {
   "cell_type": "code",
   "execution_count": null,
   "id": "2105d48d",
   "metadata": {},
   "outputs": [],
   "source": []
  }
 ],
 "metadata": {
  "kernelspec": {
   "display_name": "venv",
   "language": "python",
   "name": "python3"
  },
  "language_info": {
   "codemirror_mode": {
    "name": "ipython",
    "version": 3
   },
   "file_extension": ".py",
   "mimetype": "text/x-python",
   "name": "python",
   "nbconvert_exporter": "python",
   "pygments_lexer": "ipython3",
   "version": "3.10.12"
  }
 },
 "nbformat": 4,
 "nbformat_minor": 5
}
