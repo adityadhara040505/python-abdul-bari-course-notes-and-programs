{
 "cells": [
  {
   "cell_type": "code",
   "execution_count": 2,
   "id": "e2164f13",
   "metadata": {},
   "outputs": [
    {
     "name": "stdout",
     "output_type": "stream",
     "text": [
      "abc10\n",
      "abc10\n"
     ]
    }
   ],
   "source": [
    "# s = 'abc'+10\n",
    "# print(s)\n",
    "# This code will raise a TypeError because you cannot concatenate a string and an integer.\n",
    "# To fix this, you can convert the integer to a string using str():\n",
    "s = 'abc' + str(10)\n",
    "print(s)\n",
    "# Now it will print 'abc10' without any error.\n",
    "# Alternatively, you can use formatted strings:\n",
    "s = f'abc{10}'\n",
    "print(s)\n",
    "# This will also print 'abc10' without any error."
   ]
  },
  {
   "cell_type": "code",
   "execution_count": 3,
   "id": "5c8d3b0a",
   "metadata": {},
   "outputs": [
    {
     "name": "stdout",
     "output_type": "stream",
     "text": [
      "abcdef\n"
     ]
    }
   ],
   "source": [
    "s1  = 'abc'\n",
    "s2 = 'def'\n",
    "# Concatenating two strings\n",
    "s3 = s1 + s2\n",
    "print(s3)  # Output: 'abcdef'"
   ]
  },
  {
   "cell_type": "code",
   "execution_count": 4,
   "id": "cb169d8e",
   "metadata": {},
   "outputs": [
    {
     "name": "stdout",
     "output_type": "stream",
     "text": [
      "abcabcabc\n"
     ]
    }
   ],
   "source": [
    "#Multiplying a string\n",
    "s4 = s1 * 3\n",
    "print(s4)  # Output: 'abcabcabc'"
   ]
  },
  {
   "cell_type": "code",
   "execution_count": 5,
   "id": "8e623b10",
   "metadata": {},
   "outputs": [
    {
     "name": "stdout",
     "output_type": "stream",
     "text": [
      "abc abc abc abc abc \n"
     ]
    }
   ],
   "source": [
    "s5 = 'abc '\n",
    "s6 = s5 * 5\n",
    "print(s6)  # Output: 'abc abc abc abc abc '"
   ]
  },
  {
   "cell_type": "code",
   "execution_count": null,
   "id": "f43ee802",
   "metadata": {},
   "outputs": [],
   "source": []
  }
 ],
 "metadata": {
  "kernelspec": {
   "display_name": "venv",
   "language": "python",
   "name": "python3"
  },
  "language_info": {
   "codemirror_mode": {
    "name": "ipython",
    "version": 3
   },
   "file_extension": ".py",
   "mimetype": "text/x-python",
   "name": "python",
   "nbconvert_exporter": "python",
   "pygments_lexer": "ipython3",
   "version": "3.10.12"
  }
 },
 "nbformat": 4,
 "nbformat_minor": 5
}
